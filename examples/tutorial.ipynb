{
 "cells": [
  {
   "cell_type": "code",
   "execution_count": 1,
   "id": "61f24007",
   "metadata": {},
   "outputs": [],
   "source": [
    "import numpy as np\n",
    "import matplotlib.pyplot as plt\n",
    "\n",
    "import sys\n",
    "sys.path.append('..')"
   ]
  },
  {
   "cell_type": "markdown",
   "id": "b6de8d1d",
   "metadata": {},
   "source": [
    "# `fishergw` tutorial"
   ]
  },
  {
   "cell_type": "markdown",
   "id": "3befad3f",
   "metadata": {},
   "source": [
    "## Overview\n",
    "\n",
    "This notebook is intended to provide an essential tutorial to the use of `fishergw`.\n",
    "\n",
    "`fishergw` allows to compute Fisher matrices for two classes of signals:\n",
    "- compact binary coalescences (CBC), and\n",
    "- ringdown.\n",
    "\n",
    "They are implemented in the `taylorf2` and `ringdown` subpackages, respectively, based on the symbolic manipulation package `sympy` for `Python`. Each subpackage has its own `waveform` and `fisher` modules, from which the main objects are imported.\n",
    "\n",
    "Additionally, a `cosmology` subpackage provides basic routines to compute redshifts from distances and vice versa.\n",
    "Finally, the `ringdown.utils` module contains several useful routines, e.g., to compute Kerr quasi-normal modes and to compute the final mass and spin of a binary black hole remnant."
   ]
  },
  {
   "cell_type": "markdown",
   "id": "4e66d436",
   "metadata": {},
   "source": [
    "## `taylorf2` tutorial"
   ]
  },
  {
   "cell_type": "markdown",
   "id": "9df03a16",
   "metadata": {},
   "source": [
    "First, we import the main objects and we will go through them one by one."
   ]
  },
  {
   "cell_type": "code",
   "execution_count": 2,
   "id": "0ae087e9",
   "metadata": {},
   "outputs": [],
   "source": [
    "from fishergw.taylorf2 import CompactObject, TaylorF2, Fisher"
   ]
  },
  {
   "cell_type": "markdown",
   "id": "3d6fda46",
   "metadata": {},
   "source": [
    "###  - `CompactObject`"
   ]
  },
  {
   "cell_type": "markdown",
   "id": "7083b3a9",
   "metadata": {},
   "source": [
    "`CompactObject` is a class that allows to define a compact object. A `CompactObject` is initialized by its \n",
    "- `mass` [$M_\\odot$];\n",
    "- dimensionless `spin`;\n",
    "- dimensionless tidal deformability `Lamda` (optional, defaults to the black hole $\\Lambda=0$);\n",
    "- dimensionless spin-quadrupole moment `kappa` (optional, defaults to the black hole $\\kappa=1$);\n",
    "- `radius` [m] (optional, defaults to the black hole ISCO $R=6M$).\n",
    "\n",
    "Here below we instantiate a black hole and a neutron star:"
   ]
  },
  {
   "cell_type": "code",
   "execution_count": 3,
   "id": "dc013ea9",
   "metadata": {},
   "outputs": [
    {
     "name": "stdout",
     "output_type": "stream",
     "text": [
      "CompactObject\n",
      "\tmass:\t10.00\n",
      "\tspin:\t0.67\n",
      "\tkappa:\t1.00\n",
      "\tLamda:\t0.00\n",
      "\tradius:\t88603.75\n",
      "\n",
      "CompactObject\n",
      "\tmass:\t1.40\n",
      "\tspin:\t0.10\n",
      "\tkappa:\t1.00\n",
      "\tLamda:\t200.00\n",
      "\tradius:\t12000.00\n",
      "\n"
     ]
    }
   ],
   "source": [
    "kwargs = {'mass':10,'spin':0.67}\n",
    "obj1 = CompactObject(**kwargs)\n",
    "print(obj1)\n",
    "##\n",
    "kwargs = {'mass':1.4,'spin':0.1,'Lamda':200,'radius':12e3}\n",
    "obj2 = CompactObject(**kwargs)\n",
    "print(obj2)"
   ]
  },
  {
   "cell_type": "markdown",
   "id": "56d4bd50",
   "metadata": {},
   "source": [
    "### - `TaylorF2`"
   ]
  },
  {
   "cell_type": "markdown",
   "id": "844a70c6",
   "metadata": {},
   "source": [
    "From two compact objects, you can instantiate the waveform of a gravitational wave signal. The waveform is implemented in the form of a `TaylorF2` template. Beyond the two compact objects, you must aslo input:\n",
    "- luminosity distance `d_L` [Mpc],\n",
    "- time of coalescence `t_c` [s],\n",
    "- phase of coalescence `phi_c`.\n",
    "\n",
    "__Note__: the exact values of `t_c` and `phi_c`are irrelevant to the computation of the Fisher matrix, therefore you can omit them and they will both default to 0.\n",
    "\n",
    "Let us instantiate a signal with the previously defined compact objects at 100 Mpc:"
   ]
  },
  {
   "cell_type": "code",
   "execution_count": 4,
   "id": "29ad8cd6",
   "metadata": {},
   "outputs": [
    {
     "data": {
      "text/plain": [
       "TaylorF2\n",
       "\tt_c:\t0.00000\n",
       "\tphi_c:\t0.00000\n",
       "\tM_c:\t4421.77545\n",
       "\teta:\t0.10773\n",
       "\tchi_s:\t0.38500\n",
       "\tchi_a:\t0.28500\n",
       "\tLamda_T:\t0.59623\n",
       "\tdelta_Lamda:\t0.32107\n",
       "\tredshift:\t0.00000\n",
       "\tkappa_s:\t1.00000\n",
       "\tkappa_a:\t0.00000"
      ]
     },
     "execution_count": 4,
     "metadata": {},
     "output_type": "execute_result"
    }
   ],
   "source": [
    "signal = TaylorF2(obj1,obj2,d_L=100)\n",
    "signal"
   ]
  },
  {
   "cell_type": "markdown",
   "id": "1c317bea",
   "metadata": {},
   "source": [
    "As you see, the `TaylorF2` object uses the provided arguments to instantiate the parameters of the waveform. In particular, note that \n",
    "- the chirp mass `M_c` is measured in meters;\n",
    "- `Lamda_T` and `delta_Lamda` are the effective tidat parameters appearing at 5PN and 6PN order, respectively;\n",
    "- `kappa_s` (`kappa_a`) is the (anti-)symmetric dimensionless spin-quadrupole moment.\n",
    "\n",
    "__Note__: By default, `TaylorF2` ignores redshift and detector frame units are not rescaled. However, rescaling to the detector frame can be enabled through the `redshift=True` keyword argument. Redshift is derived from `d_L` usign $H_0=70\\,{\\rm Km/s/Mpc}$, $\\Omega_{\\rm matter}=0.3$ and $\\Omega_{\\Lambda}=0.7$."
   ]
  },
  {
   "cell_type": "code",
   "execution_count": 5,
   "id": "85b28773",
   "metadata": {
    "scrolled": true
   },
   "outputs": [
    {
     "name": "stderr",
     "output_type": "stream",
     "text": [
      "/home/costantino/anaconda3/lib/python3.8/site-packages/scipy/optimize/minpack.py:175: RuntimeWarning: The iteration is not making good progress, as measured by the \n",
      "  improvement from the last ten iterations.\n",
      "  warnings.warn(msg, RuntimeWarning)\n"
     ]
    },
    {
     "data": {
      "text/plain": [
       "TaylorF2\n",
       "\tt_c:\t0.00000\n",
       "\tphi_c:\t0.00000\n",
       "\tM_c:\t4523.21097\n",
       "\teta:\t0.10773\n",
       "\tchi_s:\t0.38500\n",
       "\tchi_a:\t0.28500\n",
       "\tLamda_T:\t0.59623\n",
       "\tdelta_Lamda:\t0.32107\n",
       "\tredshift:\t0.02294\n",
       "\tkappa_s:\t1.00000\n",
       "\tkappa_a:\t0.00000"
      ]
     },
     "execution_count": 5,
     "metadata": {},
     "output_type": "execute_result"
    }
   ],
   "source": [
    "signal = TaylorF2(obj1,obj2,d_L=100,redshift=True)\n",
    "signal"
   ]
  },
  {
   "cell_type": "markdown",
   "id": "54abc4c3",
   "metadata": {},
   "source": [
    "The value of the waveform \n",
    "$$\n",
    "h(f)=A(f)e^{i\\Phi(f)}=h(f)_{\\rm real}+i\\,h(f)_{\\rm imag}\n",
    "$$ \n",
    "at a given frequency (or at an array of frequencies) can be evaluated as simply as"
   ]
  },
  {
   "cell_type": "code",
   "execution_count": 6,
   "id": "b4a44c64",
   "metadata": {},
   "outputs": [
    {
     "name": "stdout",
     "output_type": "stream",
     "text": [
      "(-5.231292101943675e-26-9.210034295982889e-24j)\n"
     ]
    }
   ],
   "source": [
    "f = 100\n",
    "print(signal(100))"
   ]
  },
  {
   "cell_type": "code",
   "execution_count": 7,
   "id": "f60b0995",
   "metadata": {},
   "outputs": [
    {
     "data": {
      "image/png": "[encoded data removed]",
      "text/plain": [
       "<Figure size 432x288 with 1 Axes>"
      ]
     },
     "metadata": {
      "needs_background": "light"
     },
     "output_type": "display_data"
    }
   ],
   "source": [
    "f = np.linspace(100,1000,1000)\n",
    "plt.plot(f,signal(f).real,label='real part')\n",
    "plt.plot(f,signal(f).imag,'--',label='imaginary part')\n",
    "plt.grid(linestyle='--')\n",
    "plt.tight_layout()\n",
    "plt.legend(fontsize=12)\n",
    "plt.xlabel('$f$ [Hz]',fontsize=12)\n",
    "plt.ylabel('strain [1/Hz]',fontsize=12)\n",
    "plt.show()"
   ]
  },
  {
   "cell_type": "markdown",
   "id": "cacd419d",
   "metadata": {},
   "source": [
    "__Note__: A note of caution about the normalization of the amplitude. `TaylorF2` follows the notation\n",
    "$$\n",
    "h(f)=\\sqrt{\\frac{5}{24}}\\frac{M^{5/6}}{d_L}\\frac{\\sqrt{\\eta}}{\\pi^{2/3} f^{7/6}}e^{i\\Phi(f)}\\,.\n",
    "$$\n",
    "This notation ignores any contribution from the orientation angles in the pattern functions and the inclination angles. As will be explained later, the `Fisher` object deals with averaging over orientation and inclination angles. Choosing inclination and sky location is currently not supported."
   ]
  },
  {
   "cell_type": "markdown",
   "id": "2f8c0b16",
   "metadata": {},
   "source": [
    "### - `Fisher`"
   ]
  },
  {
   "cell_type": "markdown",
   "id": "c64ca34d",
   "metadata": {},
   "source": [
    "Once you have instatiated a `TaylorF2`, you can plug it into a `Fisher` object to compute the signal-to-noise ratio (SNR), uncertainties and correlations.\n",
    "\n",
    "A `Fisher` also requires a list of `keys`, i.e., independent parameters w.r.t. which you differentiate in the Fisher matrix.\n",
    "\n",
    "`fishergw` conforms to the standard practice of trating the amplitude $A$ as a free parameter. Therefore, only the phse $\\Phi$ is differentiated.\n",
    "\n",
    "The complete list of allowed `keys` is ``[t_c, phi_c, M_c, eta, chi_s, chi_a, Lamda_T, delta_Lamda]``. This is the default choice. However, you can also choose to restrict to a subset of it.\n",
    "\n",
    "Finally, you can also specify a list of variables to be differentiated in log scale."
   ]
  },
  {
   "cell_type": "code",
   "execution_count": 8,
   "id": "4b9b9f5e",
   "metadata": {},
   "outputs": [],
   "source": [
    "keys = ['t_c','phi_c','M_c','eta','Lamda_T','chi_s','chi_a']\n",
    "logscale_keys = ['M_c','eta']\n",
    "fisher = Fisher(signal,keys=keys,logscale_keys=logscale_keys)"
   ]
  },
  {
   "cell_type": "markdown",
   "id": "cd4acd01",
   "metadata": {},
   "source": [
    "We have not yet specified the PSD curve of the assumed detector. This can be provided manually thorugh the `load_asd` method, which takes in input the name to a text file `asd_name` containing two columns for the frequencies and the corresponding ASD values, respectively. In addition, you must provide the value `Qavg` of the angle-average normalization factor, defined such that the SNR, computed with the sensitivity\n",
    "$$\n",
    "S_h(f)=\\frac{{\\rm ASD}(f)}{\\rm Q_{avg}}\n",
    "$$\n",
    "is the averaged SNR over the sky-location and inlination of the binary. For example, `Qavg=2/5` for an ordinary single L-shaped detector.\n",
    "\n",
    "The `asd_name` will be first looked into the ``fishergw/detector/`` folder, then into the ``fishergw/detector/unofficial_asd/`` folder. Otherwise, ``asd_name`` must be the full path of the intended text file. As a shortcut, all the ASDs in the `fishergw/detector` folder can be accessed via the `detector` argument at the moment of instantiating the `Fisher`. Allowed detectors are `[aligo, etd, lisa, ce]`. The shortcut will automatically pick up the correct `Qavg` when loading the PSD. \n",
    "\n",
    "These below are equivalent ways of initializing the `Fisher` object"
   ]
  },
  {
   "cell_type": "code",
   "execution_count": 11,
   "id": "08a06ba5",
   "metadata": {},
   "outputs": [
    {
     "data": {
      "text/plain": [
       "Fisher\n",
       "\tkeys: ['t_c', 'phi_c', 'M_c', 'eta', 'Lamda_T', 'chi_s', 'chi_a']\n",
       "\n",
       "\tPSD:\n",
       "\t\tname: fishergw/detector/aligo_asd.txt\n",
       "\t\tQavg: 0.4\n",
       "\t\tfmin: 5.00\n",
       "\t\tfmax: 5000.00"
      ]
     },
     "execution_count": 11,
     "metadata": {},
     "output_type": "execute_result"
    }
   ],
   "source": [
    "## method 1\n",
    "keys = ['t_c','phi_c','M_c','eta','Lamda_T','chi_s','chi_a']\n",
    "logscale_keys = ['M_c','eta']\n",
    "fisher = Fisher(signal,keys=keys,logscale_keys=logscale_keys)\n",
    "fisher.load_psd(asd_name='aligo_asd.txt',Qavg=2/5)\n",
    "## method 2\n",
    "keys = ['t_c','phi_c','M_c','eta','Lamda_T','chi_s','chi_a']\n",
    "logscale_keys = ['M_c','eta']\n",
    "fisher = Fisher(signal,keys=keys,logscale_keys=logscale_keys)\n",
    "fisher.load_psd(asd_name='../fishergw/detector/aligo_asd.txt',\\\n",
    "                Qavg=2/5)\n",
    "## method 3\n",
    "keys = ['t_c','phi_c','M_c','eta','Lamda_T','chi_s','chi_a']\n",
    "logscale_keys = ['M_c','eta']\n",
    "fisher = Fisher(signal,keys=keys,logscale_keys=logscale_keys,\\\n",
    "                detector='aligo')\n",
    "fisher"
   ]
  },
  {
   "cell_type": "markdown",
   "id": "19c84e5d",
   "metadata": {},
   "source": [
    "Plotting the PSD is as simple as:"
   ]
  },
  {
   "cell_type": "code",
   "execution_count": 12,
   "id": "c76e88e4",
   "metadata": {},
   "outputs": [
    {
     "data": {
      "image/png": "[encoded data removed]",
      "text/plain": [
       "<Figure size 432x288 with 1 Axes>"
      ]
     },
     "metadata": {
      "needs_background": "light"
     },
     "output_type": "display_data"
    }
   ],
   "source": [
    "f = np.logspace(np.log10(5),np.log10(5e3),int(1e4))\n",
    "psd = fisher.psd(f)\n",
    "plt.plot(f,psd)\n",
    "plt.loglog()\n",
    "plt.xlabel('f [Hz]',fontsize=12)\n",
    "plt.ylabel('PSD [1/Hz]',fontsize=12)\n",
    "plt.grid(linestyle='--')\n",
    "plt.tight_layout()\n",
    "plt.show()"
   ]
  },
  {
   "cell_type": "markdown",
   "id": "e2c62d35",
   "metadata": {},
   "source": [
    "As you see, after loading the PSD, the `Fisher` instantiated also default values for `fmin` and `fmax`, i.e., minimum and maximum frequencies that will be used in the integrals over the frequency domain. However, it is often preferred to truncate the integral at the maximum frequency of validity of the waveform approximant. In the case of the `TaylorF2` approximant, this is approximately the ISCO frequency\n",
    "$$\n",
    "f_{\\rm ISCO}=\\left(6^{3/2}\\pi M\\right)^{-1}\\,.\n",
    "$$\n",
    "The `TaylorF2` object contains an `isco` method to compute the ISCO frequency:"
   ]
  },
  {
   "cell_type": "code",
   "execution_count": 13,
   "id": "00a49218",
   "metadata": {},
   "outputs": [
    {
     "data": {
      "text/plain": [
       "377.04059342895533"
      ]
     },
     "execution_count": 13,
     "metadata": {},
     "output_type": "execute_result"
    }
   ],
   "source": [
    "fmax = signal.isco(mode='static')\n",
    "fmax"
   ]
  },
  {
   "cell_type": "markdown",
   "id": "2abdc51c",
   "metadata": {},
   "source": [
    "The `static` mode argument refers to the fact that the above formula for the ISCO frequency is exact for a _static_ Schwarzschild black hole with mass $M$. Other options are also available:\n",
    "- `contact` computes the contact frequency according to\n",
    "$$\n",
    "f_{\\rm max} = \\frac{M^{1/2}}{\\pi\\,(R_1+R_2)^{3/2}}\n",
    "$$\n",
    "where, for black holes, the ISCO radius $R_{1,2}=6M_{1,2}$ is assumed;\n",
    "- `Kerr` computes the ISCO with self-force and spin corrections."
   ]
  },
  {
   "cell_type": "markdown",
   "id": "2cff7bfb",
   "metadata": {},
   "source": [
    "You might also want to integrate from a different lower cutoff. For space based detectors such as LISA, it is common to fix the minimum frequency by requiring that the signal is observed for a fixed number of years. This can be obtained through the method `start_frequency_from_obs_time`:"
   ]
  },
  {
   "cell_type": "code",
   "execution_count": 14,
   "id": "770af11d",
   "metadata": {},
   "outputs": [
    {
     "data": {
      "text/plain": [
       "0.06338528192311146"
      ]
     },
     "execution_count": 14,
     "metadata": {},
     "output_type": "execute_result"
    }
   ],
   "source": [
    "obs_time = 5 ## years\n",
    "signal.start_frequency_from_obs_time(obs_time)"
   ]
  },
  {
   "cell_type": "markdown",
   "id": "f7872bca",
   "metadata": {},
   "source": [
    "After choosing `fmin` and `fmax`, we are now ready to compute the SNR and the Fisher matrix."
   ]
  },
  {
   "cell_type": "code",
   "execution_count": 15,
   "id": "f9cb1701",
   "metadata": {},
   "outputs": [
    {
     "data": {
      "text/plain": [
       "27.558699899174364"
      ]
     },
     "execution_count": 15,
     "metadata": {},
     "output_type": "execute_result"
    }
   ],
   "source": [
    "fmin = 10\n",
    "fmax = signal.isco(mode='static')\n",
    "snr = fisher.snr(fmin,fmax,nbins=1e4)\n",
    "snr"
   ]
  },
  {
   "cell_type": "code",
   "execution_count": 16,
   "id": "fcf7d8fc",
   "metadata": {},
   "outputs": [],
   "source": [
    "fisher_matrix = fisher.fisher_matrix(fmin,fmax,nbins=1e4)"
   ]
  },
  {
   "cell_type": "markdown",
   "id": "98cc8383",
   "metadata": {},
   "source": [
    "In order to obtain the uncertainties $\\sigma_i$ on each parameter in `keys`, you simply call the method `sigma1d`:"
   ]
  },
  {
   "cell_type": "code",
   "execution_count": 17,
   "id": "e4105f3b",
   "metadata": {},
   "outputs": [
    {
     "data": {
      "text/plain": [
       "{'t_c': 0.06516477997808368,\n",
       " 'phi_c': 87.94379826465509,\n",
       " 'M_c': 0.003237340706362628,\n",
       " 'eta': 0.9593343435862528,\n",
       " 'Lamda_T': 334.8108494966283,\n",
       " 'chi_s': 1.8029099245665612,\n",
       " 'chi_a': 2.1819496975023975}"
      ]
     },
     "execution_count": 17,
     "metadata": {},
     "output_type": "execute_result"
    }
   ],
   "source": [
    "sigmas = fisher.sigma1d(fisher_matrix)\n",
    "sigmas"
   ]
  },
  {
   "cell_type": "markdown",
   "id": "b25ccc19",
   "metadata": {},
   "source": [
    "From the above dictionary, we see that the uncertainties over the spins are large and, most importantly, exceed the physical allowed values. This can be alleviated by a suitable choice of priors. In particular, Fisher matrices easily allow to impose Gaussian priors. Here below, we demonstrate this by imposing Gaussian priors over `chi_s` and `chi_a` with width $0.1$:"
   ]
  },
  {
   "cell_type": "code",
   "execution_count": 18,
   "id": "8a07212c",
   "metadata": {},
   "outputs": [
    {
     "data": {
      "text/plain": [
       "{'t_c': 0.034388185242263725,\n",
       " 'phi_c': 57.34438421443949,\n",
       " 'M_c': 0.002368736222664972,\n",
       " 'eta': 0.614353872893017,\n",
       " 'Lamda_T': 134.19836648170394,\n",
       " 'chi_s': 0.06512724209708304,\n",
       " 'chi_a': 0.07787568608705342}"
      ]
     },
     "execution_count": 18,
     "metadata": {},
     "output_type": "execute_result"
    }
   ],
   "source": [
    "priors = {'chi_s':0.1,'chi_a':0.1}\n",
    "fisher_matrix = fisher.fisher_matrix(fmin,fmax,nbins=1e4,\\\n",
    "                                     priors=priors)\n",
    "sigmas = fisher.sigma1d(fisher_matrix)\n",
    "sigmas"
   ]
  },
  {
   "cell_type": "markdown",
   "id": "bb507463",
   "metadata": {},
   "source": [
    "Finally, we demonstrate how to sample from the covariance matrix:"
   ]
  },
  {
   "cell_type": "code",
   "execution_count": 19,
   "id": "f5f5face",
   "metadata": {},
   "outputs": [],
   "source": [
    "covariance_matrix = fisher.covariance_matrix(fisher_matrix)\n",
    "samples = fisher.sample(covariance_matrix,nsamples=1e5)"
   ]
  },
  {
   "cell_type": "markdown",
   "id": "3c8569da",
   "metadata": {},
   "source": [
    "From the plot below, we see the limitations inherent to a Fisher matrix approach. Indeed, the variable `Lamda_T` has an uncertainty large enough that negative values are also sampled. However, one can always impose an hard prior _a posteriori_ by restricting to samples with $\\Lambda_T>0$."
   ]
  },
  {
   "cell_type": "code",
   "execution_count": 20,
   "id": "d7006cce",
   "metadata": {},
   "outputs": [
    {
     "data": {
      "image/png": "[encoded data removed]",
      "text/plain": [
       "<Figure size 432x288 with 1 Axes>"
      ]
     },
     "metadata": {
      "needs_background": "light"
     },
     "output_type": "display_data"
    }
   ],
   "source": [
    "i = keys.index('Lamda_T')\n",
    "x = samples[i]\n",
    "plt.hist(x,density=True,bins=50,alpha=0.6)\n",
    "plt.xlabel('Lambda_T',fontsize=12)\n",
    "plt.grid(linestyle='--')\n",
    "plt.show()"
   ]
  },
  {
   "cell_type": "markdown",
   "id": "ca41b17a",
   "metadata": {},
   "source": [
    "We can inspect the correlation matrix. For example, we discover (expectedly) that $\\chi_s$ and $\\chi_a$ are strongly anti-correlated."
   ]
  },
  {
   "cell_type": "code",
   "execution_count": 21,
   "id": "e16a5420",
   "metadata": {},
   "outputs": [
    {
     "data": {
      "text/plain": [
       "matrix([[ 1.        ,  0.99980771,  0.99925239, -0.99909192,  0.98033613,\n",
       "          0.15389893,  0.20042539],\n",
       "        [ 0.99980771,  1.        ,  0.99953618, -0.9994977 ,  0.97771078,\n",
       "          0.16945302,  0.1846594 ],\n",
       "        [ 0.99925239,  0.99953618,  1.        , -0.99834668,  0.97964318,\n",
       "          0.17820617,  0.1768995 ],\n",
       "        [-0.99909192, -0.9994977 , -0.99834668,  1.        , -0.97150102,\n",
       "         -0.16714164, -0.18524759],\n",
       "        [ 0.98033613,  0.97771078,  0.97964318, -0.97150102,  1.        ,\n",
       "          0.13043083,  0.22414791],\n",
       "        [ 0.15389893,  0.16945302,  0.17820617, -0.16714164,  0.13043083,\n",
       "          1.        , -0.93609837],\n",
       "        [ 0.20042539,  0.1846594 ,  0.1768995 , -0.18524759,  0.22414791,\n",
       "         -0.93609837,  1.        ]])"
      ]
     },
     "execution_count": 21,
     "metadata": {},
     "output_type": "execute_result"
    }
   ],
   "source": [
    "correlation_matrix = fisher.correlation_matrix(fisher_matrix)\n",
    "correlation_matrix"
   ]
  },
  {
   "cell_type": "markdown",
   "id": "ecc578b5",
   "metadata": {},
   "source": [
    "## `ringdown` tutorial"
   ]
  },
  {
   "cell_type": "code",
   "execution_count": 23,
   "id": "a0bb1da9",
   "metadata": {},
   "outputs": [],
   "source": [
    "from fishergw.ringdown import RingdownMultimode, Fisher\n",
    "from fishergw.ringdown.utils import final_mass, final_spin, ringdown_absolute_amplitudes, qnm_Kerr\n",
    "from fishergw.cosmology import redshift_from_distance"
   ]
  },
  {
   "cell_type": "markdown",
   "id": "39fbb545",
   "metadata": {},
   "source": [
    "Ringdown is defined as a superimposition of damped sinusoids. Each sinusoid is determined by the frequency, the damping time, the amplitude and the phase, according to\n",
    "$$\n",
    "h_{lmn}(t)=A_{lmn}e^{-t/\\tau_{lmn}}e^{-i(\\omega_{lmn}t+\\phi_{lmn})}\\,.\n",
    "$$\n",
    "The couple $(l,m)$ indicate the angular and azimuthal number, while $n$ is the overtone number.\n",
    "\n",
    "We choose to order the series of sinusoids in _blocks_ indicized by $(l,m)$, with each block containing attributes (`f0`, `f1`, ...) for the ($n=0$, $n=1$, ...) frequencies, and similarly for the other parameters. This is because, in the Fihser formalism, different _blocks_ have vanishing scalar product _when averaged over sky orientation_. Therefore, the Fisher matrix becomes block diagonal, thus reducing the computational cost. We stress however that, in the more general case of fixed sky location, the _blocks_ will have nonvanishing correlations. Here, since we restrict to angle averaged configurations, block diagonalness is a justified assumption."
   ]
  },
  {
   "cell_type": "markdown",
   "id": "1dbba785",
   "metadata": {},
   "source": [
    "### Ringdown parameters"
   ]
  },
  {
   "cell_type": "markdown",
   "id": "f99cdf3b",
   "metadata": {},
   "source": [
    "The ringdown parameters are physically determined as functions of the binary parameters.\n",
    "- The `final_mass` and `final_spin` functions return the final mass and spins of a black hole remnant, resulting from a binary black hole coalescence.\n",
    "- `qnm_Kerr` returns the frequencies (in Hz) and damping times (in secs) of the Kerr spectrum. The default method is `interp`, which interpolates numerical tables of QNMs.\n",
    "- `ringdown_absolute_amplitudes` returns the amplitude of a given mode.\n",
    "\n",
    "__Note__: that absolute amplitudes depend on the extrinsic parameters. Here we only incorporate the dependence on the luminosity distance `d_L`, while the dependence on sky orientation and inclination is addressed later. If you are only interested in amplitudes relative to the fundamental $A_{220}$, you can instead use `ringdown_relative_amplitudes`.\n",
    "\n",
    "All these functions are implemented in the `fishergw/ringdown/utils` module.\n",
    "\n",
    "__Note__: it is assumed that masses, which set the legth and time scales, are already redshifted, i.e., they are provided in the detector frame. In alternative, you can compute the `final_mass` in the source frame and rescale it by $(1+z)$ before computing the QNMs. See below for the usage of the `cosmology` subpackage to compute the redshift $z$.\n",
    "\n",
    "Here below we initialize a ringdown signal with _detector frame_ masses and spins similar to GW150914, but luminosity distance adjusted to give ${\\rm SNR}\\approx30$."
   ]
  },
  {
   "cell_type": "code",
   "execution_count": 24,
   "id": "018308d4",
   "metadata": {},
   "outputs": [
    {
     "data": {
      "text/plain": [
       "(67.62936084454188, 0.6810220508579976)"
      ]
     },
     "execution_count": 24,
     "metadata": {},
     "output_type": "execute_result"
    }
   ],
   "source": [
    "mass_1, mass_2 = 39, 32\n",
    "spin_1, spin_2 = 0, 0\n",
    "mass_f = final_mass(mass_1,mass_2,spin_1,spin_2)\n",
    "spin_f = final_spin(mass_1,mass_2,spin_1,spin_2)\n",
    "luminosity_distance = 80\n",
    "mass_f, spin_f"
   ]
  },
  {
   "cell_type": "code",
   "execution_count": 25,
   "id": "3a2829f1",
   "metadata": {},
   "outputs": [
    {
     "data": {
      "text/plain": [
       "(250.53591082029922, 0.004088621439364739)"
      ]
     },
     "execution_count": 25,
     "metadata": {},
     "output_type": "execute_result"
    }
   ],
   "source": [
    "## usage of `qnm_Kerr`\n",
    "mode = (2,2,0)\n",
    "f, tau = qnm_Kerr(mass_f,spin_f,mode,method='interp')\n",
    "f, tau"
   ]
  },
  {
   "cell_type": "code",
   "execution_count": 27,
   "id": "fe6b7a99",
   "metadata": {},
   "outputs": [
    {
     "data": {
      "text/plain": [
       "8.653744309043299e-21"
      ]
     },
     "execution_count": 27,
     "metadata": {},
     "output_type": "execute_result"
    }
   ],
   "source": [
    "## usage of `ringdown_absolute_amplitudes`\n",
    "mass_ratio = mass_1/mass_2\n",
    "ringdown_absolute_amplitudes(mass_f,mass_ratio,\\\n",
    "                             spin_1,spin_2,\\\n",
    "                             luminosity_distance,mode=(2,2,0))"
   ]
  },
  {
   "cell_type": "markdown",
   "id": "e6c86f19",
   "metadata": {},
   "source": [
    "### Ringdown without overtones"
   ]
  },
  {
   "cell_type": "markdown",
   "id": "49677205",
   "metadata": {},
   "source": [
    "We first address the case of two modes with different $(l,m)$, therefore no overtones are present. We initialize 2-dimensional lists corresponding to the `modes`, the frequencies `freqs`, the damping times `taus`, the amplitudes `amps` and the phases `phis`.\n",
    "\n",
    "Because no phenomenological fit is implemented for the phases, we sample them randomly. However, note that phases have little correlations with the other parametres, therefore you can also fix them to 0 to help the reproducibility of the code."
   ]
  },
  {
   "cell_type": "code",
   "execution_count": 28,
   "id": "c95a5d65",
   "metadata": {},
   "outputs": [],
   "source": [
    "modes = [(2,2,0),(3,3,0)]\n",
    "freqs = []\n",
    "taus = []\n",
    "amps = []\n",
    "phis = [np.random.uniform(0,np.pi*2) for i in range(len(modes))]\n",
    "for mode in modes:\n",
    "    f, tau = qnm_Kerr(mass_f,spin_f,mode)\n",
    "    A = ringdown_absolute_amplitudes(mass_f,mass_1/mass_2,\\\n",
    "                                     spin_1,spin_2,d_L,mode)\n",
    "    freqs.append(f)\n",
    "    taus.append(tau)\n",
    "    amps.append(A)"
   ]
  },
  {
   "cell_type": "markdown",
   "id": "78f1be4e",
   "metadata": {},
   "source": [
    "Then, we use the above lists to instantiate a multimode ringdown signal."
   ]
  },
  {
   "cell_type": "code",
   "execution_count": 29,
   "id": "c17b13cc",
   "metadata": {},
   "outputs": [
    {
     "name": "stdout",
     "output_type": "stream",
     "text": [
      "RingdownMultimode\n",
      "sorted modes:\n",
      "\t(2, 2, 0)\t\n",
      "\t(3, 3, 0)\t\n",
      "\n"
     ]
    }
   ],
   "source": [
    "signal = RingdownMultimode(modes,freqs,taus,amps,phis)\n",
    "print(signal)"
   ]
  },
  {
   "cell_type": "markdown",
   "id": "3968cfde",
   "metadata": {},
   "source": [
    "To access a _block_, you can just call the corresponding $(l,m)$ element of the signal. Note, in particular, that amplitudes are stored in log10 scale. Correspondingly, amplitudes are assumed to be sampled uniformily in log scales in the Fisher matrix."
   ]
  },
  {
   "cell_type": "code",
   "execution_count": 30,
   "id": "5ab0a161",
   "metadata": {},
   "outputs": [
    {
     "name": "stdout",
     "output_type": "stream",
     "text": [
      "RingdownLM(lm=(2, 2))\n",
      "mode0:\t(2, 2, 0)\n",
      "\tf0:\t250.53591082029922\n",
      "\ttau0:\t0.004088621439364739\n",
      "\tlogA0:\t-20.062795940985236\n",
      "\tphi0:\t0.5954120332007339\n",
      "\n",
      "RingdownLM(lm=(3, 3))\n",
      "mode0:\t(3, 3, 0)\n",
      "\tf0:\t397.2758912162464\n",
      "\ttau0:\t0.0039820909314697995\n",
      "\tlogA0:\t-21.324887542333386\n",
      "\tphi0:\t2.904069048837475\n",
      "\n"
     ]
    }
   ],
   "source": [
    "print(signal[2,2])\n",
    "print(signal[3,3])"
   ]
  },
  {
   "cell_type": "markdown",
   "id": "43adf452",
   "metadata": {},
   "source": [
    "Evaluating the signal at a given frequency returns the plus and cross polarizations, which are defined by projecting $h_{lmn}$ along the spherical harmonics $\\mathcal{Y}^{\\pm}_{lm}(\\iota)$, where $\\iota$ is the orientation angle. We average the spherical harmonics over $\\iota$.\n",
    "\n",
    "Note that the averages differ for each $(l,m)$. This is the reason why (differently from the `taylorf2` subpackage) we implement averaging over inlcination directly in the signal, while leaving to the definition of the PSD only the average over sky position."
   ]
  },
  {
   "cell_type": "code",
   "execution_count": 31,
   "id": "f4d8e4a7",
   "metadata": {},
   "outputs": [
    {
     "data": {
      "image/png": "[encoded data removed]",
      "text/plain": [
       "<Figure size 432x288 with 1 Axes>"
      ]
     },
     "metadata": {
      "needs_background": "light"
     },
     "output_type": "display_data"
    }
   ],
   "source": [
    "f = np.linspace(10,1000,1000)\n",
    "hp, hc = signal(f)\n",
    "plt.plot(f,np.abs(hp),label='abs(hp)')\n",
    "plt.plot(f,np.abs(hc),'--',label='abs(hc)')\n",
    "plt.grid(linestyle='--')\n",
    "plt.legend(fontsize=13)\n",
    "plt.xlabel('f [Hz]',fontsize=12)\n",
    "plt.ylabel('strain [1/Hz]',fontsize=12)\n",
    "plt.show()"
   ]
  },
  {
   "cell_type": "markdown",
   "id": "3a04ee04",
   "metadata": {},
   "source": [
    "The instantiation of a `Fihser` object proceeds exactly as in the `taylorf2` case. The only difference is that the angle-averaging factor `Qavg` only accounts for sky position. For example, in the case of a single L-shaped detector, `Qavg` is $1/\\sqrt{5}$ instead of $2/5$."
   ]
  },
  {
   "cell_type": "code",
   "execution_count": 32,
   "id": "d001fc12",
   "metadata": {},
   "outputs": [
    {
     "data": {
      "text/plain": [
       "Fisher\n",
       "\tPSD:\n",
       "\t\tname: fishergw/detector/aligo_asd.txt\n",
       "\t\tQavg: 0.4472135954999579\n",
       "\t\tfmin: 5.00\n",
       "\t\tfmax: 5000.00"
      ]
     },
     "execution_count": 32,
     "metadata": {},
     "output_type": "execute_result"
    }
   ],
   "source": [
    "fisher = Fisher(signal,detector='aligo')\n",
    "fisher"
   ]
  },
  {
   "cell_type": "code",
   "execution_count": 33,
   "id": "aaa0224f",
   "metadata": {},
   "outputs": [
    {
     "name": "stdout",
     "output_type": "stream",
     "text": [
      "snr:\t 29.279799673848185\n"
     ]
    }
   ],
   "source": [
    "snr = fisher.snr(nbins=1e4)\n",
    "print('snr:\\t',snr)"
   ]
  },
  {
   "cell_type": "markdown",
   "id": "cd0d21d6",
   "metadata": {},
   "source": [
    "Because the Fisher matrix is block diagonal, we choose to represent it as a dictionary whose keys are the block labels $(l,m)$ and whose values are the actual blocks of the matrix. You see that each block has shape (4,4), corresponding to the four independent parameters (`f`, `tau`, `log10A` and `phi`, respectively) for each $(l,m)$ block."
   ]
  },
  {
   "cell_type": "code",
   "execution_count": 34,
   "id": "06a5799e",
   "metadata": {},
   "outputs": [
    {
     "data": {
      "text/plain": [
       "{(2,\n",
       "  2): array([[ 2.81376179e-01, -3.38148829e+00,  5.10939451e-01,\n",
       "          9.73130144e-03],\n",
       "        [-3.38148829e+00,  2.55627272e+07,  2.44916777e+05,\n",
       "          3.02481102e+02],\n",
       "        [ 5.10939451e-01,  2.44916777e+05,  4.53276008e+03,\n",
       "         -6.57660680e+00],\n",
       "        [ 9.73130144e-03,  3.02481102e+02, -6.57660680e+00,\n",
       "          8.52650162e+02]]),\n",
       " (3,\n",
       "  3): array([[ 7.41517525e-04, -3.67438516e-03, -2.64783137e-03,\n",
       "         -8.87694025e-06],\n",
       "        [-3.67438516e-03,  7.46829856e+04,  6.89005259e+02,\n",
       "         -3.70540231e-01],\n",
       "        [-2.64783137e-03,  6.89005259e+02,  1.25925287e+01,\n",
       "          7.23086985e-03],\n",
       "        [-8.87694025e-06, -3.70540231e-01,  7.23086985e-03,\n",
       "          2.36288692e+00]])}"
      ]
     },
     "execution_count": 34,
     "metadata": {},
     "output_type": "execute_result"
    }
   ],
   "source": [
    "fisher_matrix = fisher.fisher_matrix(nbins=1e4)\n",
    "fisher_matrix"
   ]
  },
  {
   "cell_type": "markdown",
   "id": "74b372a7",
   "metadata": {},
   "source": [
    "The one-dimensional uncertainties are represented as a dictionary, whose keys are the $(l,m,n)$ modes and whose values are the uncertainties for, respectively, `f`, `tau`, `log10A` and `phi`."
   ]
  },
  {
   "cell_type": "code",
   "execution_count": 36,
   "id": "ea50e558",
   "metadata": {},
   "outputs": [
    {
     "data": {
      "text/plain": [
       "{(2, 2, 0): [1.885649851111738,\n",
       "  0.0002848399952608475,\n",
       "  0.02139285925261816,\n",
       "  0.03424727829408528],\n",
       " (3, 3, 0): [36.75026250569854,\n",
       "  0.005201801999928493,\n",
       "  0.4007480693299972,\n",
       "  0.6505495394224017]}"
      ]
     },
     "execution_count": 36,
     "metadata": {},
     "output_type": "execute_result"
    }
   ],
   "source": [
    "sigmas = fisher.sigma1d(fisher_matrix)\n",
    "sigmas"
   ]
  },
  {
   "cell_type": "markdown",
   "id": "9dac5368",
   "metadata": {},
   "source": [
    "Having in mind spectroscopical purposes, it might be convenient to display percentual uncertainties in frequencies and damping times."
   ]
  },
  {
   "cell_type": "code",
   "execution_count": 37,
   "id": "2b51bdd9",
   "metadata": {},
   "outputs": [
    {
     "name": "stdout",
     "output_type": "stream",
     "text": [
      "(2, 2, 0) 0.7526465347573466 6.966651216922247\n",
      "(3, 3, 0) 9.250564486354527 130.62991502327387\n"
     ]
    }
   ],
   "source": [
    "for mode,val in sigmas.items():\n",
    "    i = modes.index(mode)\n",
    "    print(mode,val[0]/freqs[i]*100,val[1]/taus[i]*100)"
   ]
  },
  {
   "cell_type": "markdown",
   "id": "5728d4a3",
   "metadata": {},
   "source": [
    "We see that `tau` has a large uncertainty for the subdominant mode. This is, in part, a spurious effect of the Fisher formalism. Indeed, let us sample `tau` from the covariance matrix of the subdominant mode. We see that the distribution extends up to negative values of `tau`, which is an unphysical region."
   ]
  },
  {
   "cell_type": "code",
   "execution_count": 39,
   "id": "1588a7a9",
   "metadata": {},
   "outputs": [
    {
     "data": {
      "image/png": "[encoded data removed]",
      "text/plain": [
       "<Figure size 432x288 with 1 Axes>"
      ]
     },
     "metadata": {
      "needs_background": "light"
     },
     "output_type": "display_data"
    }
   ],
   "source": [
    "lm = (3,3)\n",
    "covariance_matrix = fisher.covariance_matrix(fisher_matrix[lm])\n",
    "samples = fisher.sample(lm,covariance_matrix,nsamples=1e5)\n",
    "i = signal[lm].keys.index('tau0')\n",
    "plt.hist(samples[i]*1000,bins=50,density=True,alpha=0.5)\n",
    "plt.xlabel('$\\\\tau_{330}$ [ms]',fontsize=12)\n",
    "plt.show()"
   ]
  },
  {
   "cell_type": "markdown",
   "id": "baef3bbc",
   "metadata": {},
   "source": [
    "In a realistic situation, one has prior knowledge about the mass and spin of the remnant, e.g., from a IMR analysis or from a ringdown analysis in which $M$ and $\\chi$ are sampled instead of the QNM spectrum. Therefore, the values of the subdominant modes can be constrained under the assumption that the spectrum does not deviate much from the Kerr type. To mimic this, we impose a Gaussian prior on $\\tau_{330}$ such that the standard deviation is 30% of the injected value. We plot the prior alongside the posterior, to highlight that imposing such restrictive priors can lead the posterior to simply reproduce the prior. Hence, one should take this operation with great care and decide case by case wether it is appropriate. For example, it might not be appropriate for estimating prospects of black hole spectroscopy, where the Kerr hypothesis shall not be assumed to inform the priors."
   ]
  },
  {
   "cell_type": "code",
   "execution_count": 41,
   "id": "f71340f4",
   "metadata": {},
   "outputs": [],
   "source": [
    "lm = (3,3)\n",
    "fisher_matrix = fisher.fisher_matrix(nbins=1e4)\n",
    "sigma_tau = taus[1]*0.3\n",
    "priors = np.diag([0,1/(sigma_tau)**2,0,0])\n",
    "fisher_matrix[lm] += priors\n",
    "covariance_matrix = fisher.covariance_matrix(fisher_matrix[lm])\n",
    "samples = fisher.sample(lm,covariance_matrix,nsamples=1e5)"
   ]
  },
  {
   "cell_type": "code",
   "execution_count": 42,
   "id": "ca62dc71",
   "metadata": {},
   "outputs": [
    {
     "data": {
      "image/png": "[encoded data removed]",
      "text/plain": [
       "<Figure size 432x288 with 1 Axes>"
      ]
     },
     "metadata": {
      "needs_background": "light"
     },
     "output_type": "display_data"
    }
   ],
   "source": [
    "x = np.random.normal(taus[1],sigma_tau,int(1e4))\n",
    "plt.hist(x,bins=50,density=True,alpha=0.5,label='prior')\n",
    "i = signal[lm].keys.index('tau0')\n",
    "plt.hist(samples[i],bins=50,density=True,alpha=0.5,label='posterior')\n",
    "plt.legend(fontsize=13)\n",
    "plt.xlabel('tau_330',fontsize=12)\n",
    "plt.show()"
   ]
  },
  {
   "cell_type": "markdown",
   "id": "89da3639",
   "metadata": {},
   "source": [
    "The imposition of such a prior improves the recovery of the amplitude of the subdominant mode. This is because amplitude and damping times are strictly correlated. Here we display the correlation when no prior is imposed:"
   ]
  },
  {
   "cell_type": "code",
   "execution_count": 43,
   "id": "1111b4b3",
   "metadata": {},
   "outputs": [
    {
     "data": {
      "text/plain": [
       "matrix([[ 1.00000000e+00, -2.69732982e-02,  3.84394710e-02,\n",
       "          1.05941889e-04],\n",
       "        [-2.69732982e-02,  1.00000000e+00, -7.10741005e-01,\n",
       "          2.58801519e-03],\n",
       "        [ 3.84394710e-02, -7.10741005e-01,  1.00000000e+00,\n",
       "         -2.76816492e-03],\n",
       "        [ 1.05941889e-04,  2.58801519e-03, -2.76816492e-03,\n",
       "          1.00000000e+00]])"
      ]
     },
     "execution_count": 43,
     "metadata": {},
     "output_type": "execute_result"
    }
   ],
   "source": [
    "fisher_matrix = fisher.fisher_matrix(nbins=1e4)\n",
    "lm = (3,3)\n",
    "correlation_matrix = fisher.correlation_matrix(fisher_matrix[lm])\n",
    "correlation_matrix"
   ]
  },
  {
   "cell_type": "markdown",
   "id": "29657c8e",
   "metadata": {},
   "source": [
    "### Ringdown with overtones"
   ]
  },
  {
   "cell_type": "markdown",
   "id": "3f4b4631",
   "metadata": {},
   "source": [
    "We repeat the previous steps with the first overtone (2,2,1) instead of the (3,3,0) mode. We will therefore avoid repetitions and only comment when the differences are relevant."
   ]
  },
  {
   "cell_type": "code",
   "execution_count": 44,
   "id": "4c166464",
   "metadata": {},
   "outputs": [
    {
     "data": {
      "text/plain": [
       "(67.62936084454188, 0.6810220508579976)"
      ]
     },
     "execution_count": 44,
     "metadata": {},
     "output_type": "execute_result"
    }
   ],
   "source": [
    "mass_1, mass_2 = 39, 32\n",
    "spin_1, spin_2 = 0, 0\n",
    "mass_f = final_mass(mass_1,mass_2,spin_1,spin_2)\n",
    "spin_f = final_spin(mass_1,mass_2,spin_1,spin_2)\n",
    "d_L = 80\n",
    "mass_f, spin_f"
   ]
  },
  {
   "cell_type": "markdown",
   "id": "1a00ac1e",
   "metadata": {},
   "source": [
    "We change the default fitting `method` for the amplitudes, because `method=2` is the only one allowing for overtones."
   ]
  },
  {
   "cell_type": "code",
   "execution_count": 46,
   "id": "b8401bff",
   "metadata": {},
   "outputs": [],
   "source": [
    "modes = [(2,2,0),(2,2,1)]\n",
    "freqs = []\n",
    "taus = []\n",
    "amps = []\n",
    "phis = [0,0]#np.random.uniform(0,np.pi*2) for i in range(len(modes))]\n",
    "for mode in modes:\n",
    "    f,tau = qnm_Kerr(mass_f,spin_f,mode)\n",
    "    A = ringdown_absolute_amplitudes(mass_f,mass_1/mass_2,\\\n",
    "                                     spin_1,spin_2,\\\n",
    "                                     luminosity_distance,\\\n",
    "                                     mode,method=2)\n",
    "    freqs.append(f)\n",
    "    taus.append(tau)\n",
    "    amps.append(A)"
   ]
  },
  {
   "cell_type": "markdown",
   "id": "a96bfe67",
   "metadata": {},
   "source": [
    "Now, the signal has only one block, i.e., the (2,2) block."
   ]
  },
  {
   "cell_type": "code",
   "execution_count": 47,
   "id": "fee21e8d",
   "metadata": {},
   "outputs": [
    {
     "name": "stdout",
     "output_type": "stream",
     "text": [
      "RingdownLM(lm=(2, 2))\n",
      "mode0:\t(2, 2, 0)\n",
      "\tf0:\t250.53591082029922\n",
      "\ttau0:\t0.004088621439364739\n",
      "\tlogA0:\t-20.062795940985236\n",
      "\tphi0:\t0\n",
      "mode1:\t(2, 2, 1)\n",
      "\tf1:\t244.80091647634686\n",
      "\ttau1:\t0.0013519012596347692\n",
      "\tlogA1:\t-20.33291345365817\n",
      "\tphi1:\t0\n",
      "\n"
     ]
    }
   ],
   "source": [
    "signal = RingdownMultimode(modes,freqs,taus,amps,phis)\n",
    "print(signal[2,2])"
   ]
  },
  {
   "cell_type": "markdown",
   "id": "e4194ebf",
   "metadata": {},
   "source": [
    "Correspondingly, the Fisher matrix has shape (8,8)"
   ]
  },
  {
   "cell_type": "code",
   "execution_count": 48,
   "id": "741cca2b",
   "metadata": {},
   "outputs": [
    {
     "data": {
      "text/plain": [
       "(8, 8)"
      ]
     },
     "execution_count": 48,
     "metadata": {},
     "output_type": "execute_result"
    }
   ],
   "source": [
    "fisher = Fisher(signal,detector='aligo')\n",
    "fisher_matrix = fisher.fisher_matrix(nbins=1e4)\n",
    "fisher_matrix[2,2].shape"
   ]
  },
  {
   "cell_type": "code",
   "execution_count": 50,
   "id": "c20e93dc",
   "metadata": {},
   "outputs": [
    {
     "data": {
      "text/plain": [
       "Fisher\n",
       "\tPSD:\n",
       "\t\tname: fishergw/detector/aligo_asd.txt\n",
       "\t\tQavg: 0.4472135954999579\n",
       "\t\tfmin: 5.00\n",
       "\t\tfmax: 5000.00"
      ]
     },
     "execution_count": 50,
     "metadata": {},
     "output_type": "execute_result"
    }
   ],
   "source": [
    "fisher"
   ]
  },
  {
   "cell_type": "markdown",
   "id": "e354e4c7",
   "metadata": {},
   "source": [
    "As shown below, because of the low SNR, the uncertanty over $\\tau_{221}$ is large and leads to sample unphysical values. As already mentioned in the previous section, this is partly an artifact of the Fisher matrix and should be considered carefully when using the reported uncertainties to draw prospects about, e.g., black hole spectroscopy.\n",
    "\n",
    "Notice also that, because of correlations between the fundamental mode and its overtone, the uncertainty on $\\tau_{220}$ is much larger than the case where the subdominant mode is an angular mode."
   ]
  },
  {
   "cell_type": "code",
   "execution_count": 51,
   "id": "969f4f18",
   "metadata": {},
   "outputs": [
    {
     "name": "stdout",
     "output_type": "stream",
     "text": [
      "snr:\t 37.25223536945832\n",
      "\n",
      "absolute uncertainties:\n"
     ]
    },
    {
     "data": {
      "text/plain": [
       "{(2, 2, 0): [2.533850816448629,\n",
       "  0.0011575561957582316,\n",
       "  0.2574446726800758,\n",
       "  0.07161773036683525],\n",
       " (2, 2, 1): [28.86263552031098,\n",
       "  0.001341040025084951,\n",
       "  0.44070134044663406,\n",
       "  0.24285144766594735]}"
      ]
     },
     "execution_count": 51,
     "metadata": {},
     "output_type": "execute_result"
    }
   ],
   "source": [
    "snr = fisher.snr()\n",
    "print('snr:\\t',snr)\n",
    "print('\\nabsolute uncertainties:')\n",
    "sigmas = fisher.sigma1d(fisher_matrix)\n",
    "sigmas"
   ]
  },
  {
   "cell_type": "code",
   "execution_count": 53,
   "id": "8dc85300",
   "metadata": {},
   "outputs": [
    {
     "name": "stdout",
     "output_type": "stream",
     "text": [
      "relative uncertainties:\n",
      "\n",
      "(2, 2, 0) 1.011372305132765 28.311650098329583\n",
      "(2, 2, 1) 11.790248147661549 99.1965955743874\n"
     ]
    }
   ],
   "source": [
    "print('relative uncertainties:\\n')\n",
    "for mode,val in sigmas.items():\n",
    "    i = modes.index(mode)\n",
    "    print(mode,val[0]/freqs[i]*100,val[1]/taus[i]*100)"
   ]
  },
  {
   "cell_type": "markdown",
   "id": "7319c2d4",
   "metadata": {},
   "source": [
    "## `cosmology`"
   ]
  },
  {
   "cell_type": "markdown",
   "id": "fc6a1667",
   "metadata": {},
   "source": [
    "The `cosmology` subpackage contains two routines to compute redshifts from luminosity distancies, according to $H_0=70\\,{\\rm Km/s/Mpc}$, $\\Omega_{\\rm matter}=0.3$ and $\\Omega_{\\Lambda}=0.7$."
   ]
  },
  {
   "cell_type": "code",
   "execution_count": 54,
   "id": "09b70191",
   "metadata": {},
   "outputs": [],
   "source": [
    "from fishergw.cosmology import distance_from_redshift,\\\n",
    "    redshift_from_distance"
   ]
  },
  {
   "cell_type": "code",
   "execution_count": 58,
   "id": "42a39c89",
   "metadata": {},
   "outputs": [
    {
     "name": "stdout",
     "output_type": "stream",
     "text": [
      "d_L injected:  100\n",
      "redshift from d_L:  0.022939997033568315\n",
      "double check d_L from redshift:  99.97880084679043\n"
     ]
    }
   ],
   "source": [
    "luminosity_distance = 100\n",
    "print('d_L injected: ',luminosity_distance)\n",
    "z = redshift_from_distance(luminosity_distance)\n",
    "print('redshift from d_L: ',z)\n",
    "print('double check d_L from redshift: ',distance_from_redshift(z))"
   ]
  },
  {
   "cell_type": "markdown",
   "id": "38537e36",
   "metadata": {},
   "source": [
    "## Black hole spectroscopy"
   ]
  },
  {
   "cell_type": "markdown",
   "id": "2f05add4",
   "metadata": {},
   "source": [
    "In this section we aare going to use routines from the `ringdown` subpackage to study prospects for black hole spectroscopy.\n",
    "\n",
    "First, we define a signal containing the dominant (2,2,0) mode, the (3,3,0) angular mode and the (2,2,1) overtone.\n",
    "\n",
    "Masses and spins are chosen to mimic a GW150914-like event, while the Fisher matrix is renormalized to an SNR of $\\approx 100$ with the ET-D detector."
   ]
  },
  {
   "cell_type": "code",
   "execution_count": 59,
   "id": "4ac2512e",
   "metadata": {},
   "outputs": [],
   "source": [
    "#from scipy.interpolate import interp2d\n",
    "#from scipy.stats import gaussian_kde\n",
    "#from scipy.integrate import simps, dblquad\n",
    "\n",
    "from fishergw.ringdown import RingdownMultimode, Fisher\n",
    "from fishergw.ringdown.utils import final_spin, qnm_Kerr,\\\n",
    "    ringdown_absolute_amplitudes"
   ]
  },
  {
   "cell_type": "code",
   "execution_count": 60,
   "id": "32298607",
   "metadata": {},
   "outputs": [
    {
     "name": "stdout",
     "output_type": "stream",
     "text": [
      "final_spin:  0.6707536550605686\n"
     ]
    }
   ],
   "source": [
    "mass_f = 67\n",
    "mass_ratio = 1.4\n",
    "spin1, spin2 = 0, 0\n",
    "spin_f = final_spin(mass_ratio,1,spin1,spin2)\n",
    "print('final_spin: ',spin_f)\n",
    "target_snr = 100\n",
    "luminosity_distance = 100"
   ]
  },
  {
   "cell_type": "code",
   "execution_count": 61,
   "id": "2a655b3c",
   "metadata": {},
   "outputs": [],
   "source": [
    "modes = [(2,2,0),(3,3,0),(2,2,1)]\n",
    "freqs = []\n",
    "taus = []\n",
    "amps = []\n",
    "## fixed to 0 for reproducibility\n",
    "phis = [0 for i in range(len(modes))]\n",
    "for mode in modes:\n",
    "    f, tau = qnm_Kerr(mass_f,spin_f,mode)\n",
    "    freqs.append(f)\n",
    "    taus.append(tau)\n",
    "    amp = ringdown_absolute_amplitudes(mass_f,mass_ratio,\\\n",
    "                            spin1,spin2,luminosity_distance,\\\n",
    "                                       mode,method=2)\n",
    "    amps.append(amp)\n",
    "## define signal\n",
    "signal = RingdownMultimode(modes,freqs,taus,amps,phis)"
   ]
  },
  {
   "cell_type": "code",
   "execution_count": 62,
   "id": "cb4a8881",
   "metadata": {},
   "outputs": [],
   "source": [
    "fisher = Fisher(signal,detector='etd')\n",
    "snr = fisher.snr()\n",
    "scale = target_snr/snr"
   ]
  },
  {
   "cell_type": "markdown",
   "id": "ce098d6e",
   "metadata": {},
   "source": [
    "We compute the Fisher matrix and the relative percentage errors to know which modes are best constrained and, therefore, what is the best combination of modes that can constrain the deviation of the signal from a Kerr spectrum."
   ]
  },
  {
   "cell_type": "code",
   "execution_count": 63,
   "id": "15a71015",
   "metadata": {},
   "outputs": [
    {
     "name": "stdout",
     "output_type": "stream",
     "text": [
      "(2, 2, 0) 0.38117407712959683 10.542044665579157\n",
      "(2, 2, 1) 4.619629404481549 38.29426166861853\n",
      "(3, 3, 0) 2.0962317640285657 28.538975084614176\n"
     ]
    }
   ],
   "source": [
    "fisher_matrix = fisher.fisher_matrix()\n",
    "for v in fisher_matrix.values():\n",
    "    v *= scale**2\n",
    "sigmas = fisher.sigma1d(fisher_matrix)\n",
    "for k,v in sigmas.items():\n",
    "    i = modes.index(k)\n",
    "    print(k,v[0]/freqs[i]*100,v[1]/taus[i]*100)"
   ]
  },
  {
   "cell_type": "markdown",
   "id": "08b5d0ca",
   "metadata": {},
   "source": [
    "### Resolvability"
   ]
  },
  {
   "cell_type": "markdown",
   "id": "75b4aba4",
   "metadata": {},
   "source": [
    "We see that frequencies are much better contrained than damping times, as it is usually expected from BBH ringdowns. Before proceeding to spectroscopy, one must ask wether modes are mutually distinguishable or, on the contrary, there is ambiguity between the modes. A useful criterion is the __Raileygh resolvability__: two modes are distiguishable if the peaks of their frequencies (or damping times) are separated by more than a standard deviation\n",
    "$$\n",
    "\\frac{|f_1-f_2|}{{\\rm max}(\\sigma_{f_1},\\sigma_{f_2})}\\geq1\n",
    "$$\n",
    "or\n",
    "$$\n",
    "\\frac{|\\tau_1-\\tau_2|}{{\\rm max}(\\sigma_{\\tau_1},\\sigma_{\\tau_2})}\\geq1\n",
    "$$"
   ]
  },
  {
   "cell_type": "markdown",
   "id": "8b1e2c5c",
   "metadata": {},
   "source": [
    "Here below we show that:\n",
    "- the two angular modes can be distinguished from the frequencies: this is because their damping times are similar in magnitude and have large uncertainties;\n",
    "- the dominant angular mode (2,2,0) and its overtone (2,2,1) can be distinguished from the damping times: this is because their frequencies are too closely spaced while damping times are distinct enough to compensate for their larger uncertainties.\n",
    "- (2,2,1) and (3,3,0) are distinguishable in both frequencies and damping times. Therefore, this signal allows to perform black hole spectroscopy unambigously."
   ]
  },
  {
   "cell_type": "code",
   "execution_count": 64,
   "id": "245eea68",
   "metadata": {},
   "outputs": [
    {
     "name": "stdout",
     "output_type": "stream",
     "text": [
      "17.6360779635466 0.09596166913288026\n"
     ]
    }
   ],
   "source": [
    "## frequencies\n",
    "mode1, mode2 = (2,2,0), (3,3,0)\n",
    "i,j = modes.index(mode1), modes.index(mode2)\n",
    "s1, s2 = sigmas[mode1][0], sigmas[mode2][0]\n",
    "f1, f2 = freqs[i], freqs[j]\n",
    "criterion_f = abs(f1-f2)/max(s1,s2)\n",
    "## damping times\n",
    "s1, s2 = sigmas[mode1][1], sigmas[mode2][1]\n",
    "tau1, tau2 = taus[i], taus[j]\n",
    "criterion_tau = abs(tau1-tau2)/max(s1,s2)\n",
    "print(criterion_f,criterion_tau)"
   ]
  },
  {
   "cell_type": "code",
   "execution_count": 65,
   "id": "a5554df6",
   "metadata": {},
   "outputs": [
    {
     "name": "stdout",
     "output_type": "stream",
     "text": [
      "0.5243605923845566 5.288224963182335\n"
     ]
    }
   ],
   "source": [
    "## frequencies\n",
    "mode1, mode2 = (2,2,0), (2,2,1)\n",
    "i,j = modes.index(mode1), modes.index(mode2)\n",
    "s1, s2 = sigmas[mode1][0], sigmas[mode2][0]\n",
    "f1, f2 = freqs[i], freqs[j]\n",
    "criterion_f = abs(f1-f2)/max(s1,s2)\n",
    "## damping times\n",
    "s1, s2 = sigmas[mode1][1], sigmas[mode2][1]\n",
    "tau1, tau2 = taus[i], taus[j]\n",
    "criterion_tau = abs(tau1-tau2)/max(s1,s2)\n",
    "print(criterion_f,criterion_tau)"
   ]
  },
  {
   "cell_type": "code",
   "execution_count": 66,
   "id": "3559b4cb",
   "metadata": {},
   "outputs": [
    {
     "name": "stdout",
     "output_type": "stream",
     "text": [
      "13.528356682017916 2.3139507967564388\n"
     ]
    }
   ],
   "source": [
    "## frequencies\n",
    "mode1, mode2 = (3,3,0), (2,2,1)\n",
    "i,j = modes.index(mode1), modes.index(mode2)\n",
    "s1, s2 = sigmas[mode1][0], sigmas[mode2][0]\n",
    "f1, f2 = freqs[i], freqs[j]\n",
    "criterion_f = abs(f1-f2)/max(s1,s2)\n",
    "## damping times\n",
    "s1, s2 = sigmas[mode1][1], sigmas[mode2][1]\n",
    "tau1, tau2 = taus[i], taus[j]\n",
    "criterion_tau = abs(tau1-tau2)/max(s1,s2)\n",
    "print(criterion_f,criterion_tau)"
   ]
  },
  {
   "cell_type": "markdown",
   "id": "f5284eb8",
   "metadata": {},
   "source": [
    "### Mass-spin diagram"
   ]
  },
  {
   "cell_type": "markdown",
   "id": "10d9f1b7",
   "metadata": {},
   "source": [
    "The consistency of the measurement with the Kerr spectrum can be visualized in a mass-spin diagram. To construct the diagram, one maps each frequency and/or damping time to the respective mass and spins compatibel with a Kerr spectrum. The inversion is implemented by the functions `invert_qnm_from_f` and `invert_qnm_from_tau`."
   ]
  },
  {
   "cell_type": "code",
   "execution_count": 67,
   "id": "d5f2f1dc",
   "metadata": {},
   "outputs": [],
   "source": [
    "from fishergw.ringdown.utils import invert_qnm_from_f,\\\n",
    "    invert_qnm_from_tau"
   ]
  },
  {
   "cell_type": "markdown",
   "id": "131cdf9c",
   "metadata": {},
   "source": [
    "For example, let us invert the injected value of $f_{220}$ and $\\tau_{220}$, under the assumption that they correspond exactly to the $(2,2,0)$ mode (you can appreciate that resolvability is essential to the latter assumption). Similirarly, we invert $f_{330}$.\n",
    "- In the left plot, you see that the three curves intersect exactly at the injection point, thus validating the null hypothesis of a Kerr spectrum. The example below is akin to an infinite SNR limit\n",
    "- In the right plot, we shifted $f_{220}$ by $10\\%$, while leaving the other quantities unmodified. Now you see that the three lines do not intersect anymore, thus signaling a departure from the Kerr spectrum."
   ]
  },
  {
   "cell_type": "code",
   "execution_count": 68,
   "id": "e5332c3a",
   "metadata": {},
   "outputs": [
    {
     "data": {
      "image/png": "[encoded data removed]",
      "text/plain": [
       "<Figure size 864x360 with 2 Axes>"
      ]
     },
     "metadata": {
      "needs_background": "light"
     },
     "output_type": "display_data"
    }
   ],
   "source": [
    "fig, axs = plt.subplots(1,2,figsize=(12,5))\n",
    "\n",
    "## GR example\n",
    "mode1 = (2,2,0)\n",
    "mode2 = (3,3,0)\n",
    "i = modes.index(mode1)\n",
    "masses, spins = invert_qnm_from_f(freqs[i],mode1)\n",
    "axs[0].plot(spins,masses,label='$f_{220}$')\n",
    "masses, spins = invert_qnm_from_tau(taus[i],mode1)\n",
    "axs[0].plot(spins,masses,label='$\\\\tau_{220}$')\n",
    "i = modes.index(mode2)\n",
    "masses, spins = invert_qnm_from_f(freqs[i],mode2)\n",
    "axs[0].plot(spins,masses,label='$f_{330}$')\n",
    "axs[0].plot(spin_f,mass_f,'o',color='red',label='injection')\n",
    "axs[0].set_xlabel('spin',fontsize=12)\n",
    "axs[0].set_ylabel('mass $(M_\\odot)$',fontsize=12)\n",
    "axs[0].grid(linestyle='--')\n",
    "axs[0].legend(fontsize=13)\n",
    "axs[0].set_title('Kerr spectrum',fontsize=12)\n",
    "\n",
    "## non-GR example\n",
    "i = modes.index(mode1)\n",
    "delta = 0.1\n",
    "masses, spins = invert_qnm_from_f(freqs[i]*(1+delta),mode1)\n",
    "axs[1].plot(spins,masses,label='$f_{220}(1+\\delta)$')\n",
    "masses, spins = invert_qnm_from_tau(taus[i],mode1)\n",
    "axs[1].plot(spins,masses,label='$\\\\tau_{220}$')\n",
    "i = modes.index(mode2)\n",
    "masses, spins = invert_qnm_from_f(freqs[i],mode2)\n",
    "axs[1].plot(spins,masses,label='$f_{330}$')\n",
    "axs[1].plot(spin_f,mass_f,'o',color='red',label='injection')\n",
    "axs[1].set_xlabel('spin',fontsize=12)\n",
    "#axs[1].set_ylabel('mass',fontsize=12)\n",
    "axs[1].grid(linestyle='--')\n",
    "axs[1].legend(fontsize=13)\n",
    "axs[1].set_title('$\\delta_{220}=0.1$',fontsize=12)\n",
    "plt.show()"
   ]
  },
  {
   "cell_type": "markdown",
   "id": "2e44941a",
   "metadata": {},
   "source": [
    "In reality, frequencies and damping times have uncertainties. Therefore, instead of plotting single lines, you want to plot bands that bracket the uncertainty over each quantity. In the plots below, we repeat the previous exercise but we plot $2\\sigma$ intervals for each quantity. \n",
    "\n",
    "_For simplicity, in the non-Kerr spectrum, we use the same $1\\sigma$ errors computed above for the Kerr case. We should have recomputed the Fisher matrix with the new value of $f_{220}$. However, this straightforward refinement would just introduce a small quantitative correction without affecting our overall conclusion._\n",
    "\n",
    "__Note: Large uncertainties over $\\tau$ can produce unphysical negative values of $\\tau$ at lower extreme of its distributions. The function `invert_qnm_from_tau` will still invert negative $\\tau$'s for any spin by yelding negative masses. In this case, you simply cut negative masses out from the mass-spin diagram.__"
   ]
  },
  {
   "cell_type": "code",
   "execution_count": 71,
   "id": "d642dfbf",
   "metadata": {
    "scrolled": true
   },
   "outputs": [
    {
     "data": {
      "image/png": "[encoded data removed]",
      "text/plain": [
       "<Figure size 864x360 with 2 Axes>"
      ]
     },
     "metadata": {
      "needs_background": "light"
     },
     "output_type": "display_data"
    }
   ],
   "source": [
    "fig, axs = plt.subplots(1,2,figsize=(12,5))\n",
    "## GR example\n",
    "mode1 = (2,2,0)\n",
    "mode2 = (3,3,0)\n",
    "i = modes.index(mode1)\n",
    "fp, fm = freqs[i]+2*sigmas[mode1][0], freqs[i]-2*sigmas[mode1][0]\n",
    "masses1, spins = invert_qnm_from_f(fp,mode1)\n",
    "masses2, _ = invert_qnm_from_f(fm,mode1)\n",
    "axs[0].fill_between(spins,masses1,masses2,label='$f_{220}$')\n",
    "tp, tm = taus[i]+2*sigmas[mode1][1], taus[i]-2*sigmas[mode1][1]\n",
    "masses1, spins = invert_qnm_from_tau(tp,mode1)\n",
    "masses2, _ = invert_qnm_from_tau(tm,mode1)\n",
    "axs[0].fill_between(spins,masses1,masses2,label='$\\\\tau_{220}$',\\\n",
    "                    alpha=0.5)\n",
    "i = modes.index(mode2)\n",
    "fp, fm = freqs[i]+2*sigmas[mode2][0], freqs[i]-2*sigmas[mode2][0]\n",
    "masses1, spins = invert_qnm_from_f(fp,mode2)\n",
    "masses2, _ = invert_qnm_from_f(fm,mode2)\n",
    "axs[0].fill_between(spins,masses1,masses2,label='$f_{330}$',alpha=0.5)\n",
    "axs[0].plot(spin_f,mass_f,'o',color='red',label='injection')\n",
    "axs[0].set_xlabel('spin',fontsize=12)\n",
    "axs[0].set_ylabel('mass $(M_\\odot)$',fontsize=12)\n",
    "axs[0].grid(linestyle='--')\n",
    "axs[0].legend(fontsize=13)\n",
    "axs[0].set_title('Kerr spectrum',fontsize=12)\n",
    "## non-GR example\n",
    "i = modes.index(mode1)\n",
    "delta = 0.1\n",
    "fp, fm = freqs[i]*(1+delta)+2*sigmas[mode1][0],\\\n",
    "    freqs[i]*(1+delta)-2*sigmas[mode1][0]\n",
    "masses1, spins = invert_qnm_from_f(fp,mode1)\n",
    "masses2, _ = invert_qnm_from_f(fm,mode1)\n",
    "axs[1].fill_between(spins,masses1,masses2,label='$f_{220}(1+\\delta)$')\n",
    "tp, tm = taus[i]+2*sigmas[mode1][1], taus[i]-2*sigmas[mode1][1]\n",
    "masses1, spins = invert_qnm_from_tau(tp,mode1)\n",
    "masses2, _ = invert_qnm_from_tau(tm,mode1)\n",
    "axs[1].fill_between(spins,masses1,masses2,label='$\\\\tau_{220}$',alpha=0.5)\n",
    "i = modes.index(mode2)\n",
    "fp, fm = freqs[i]+2*sigmas[mode2][0], freqs[i]-2*sigmas[mode2][0]\n",
    "masses1, spins = invert_qnm_from_f(fp,mode2)\n",
    "masses2, _ = invert_qnm_from_f(fm,mode2)\n",
    "axs[1].fill_between(spins,masses1,masses2,label='$f_{330}$',alpha=0.5)\n",
    "axs[1].plot(spin_f,mass_f,'o',color='red',label='injection')\n",
    "axs[1].set_xlabel('spin',fontsize=12)\n",
    "axs[1].set_ylabel('mass $(M_\\odot)$',fontsize=12)\n",
    "axs[1].grid(linestyle='--')\n",
    "axs[1].legend(fontsize=13)\n",
    "axs[1].set_title('$\\delta=%.2f$'%delta,fontsize=12)\n",
    "plt.show()"
   ]
  },
  {
   "cell_type": "code",
   "execution_count": null,
   "id": "d3686ba7",
   "metadata": {},
   "outputs": [],
   "source": []
  }
 ],
 "metadata": {
  "kernelspec": {
   "display_name": "Python 3",
   "language": "python",
   "name": "python3"
  },
  "language_info": {
   "codemirror_mode": {
    "name": "ipython",
    "version": 3
   },
   "file_extension": ".py",
   "mimetype": "text/x-python",
   "name": "python",
   "nbconvert_exporter": "python",
   "pygments_lexer": "ipython3",
   "version": "3.8.8"
  }
 },
 "nbformat": 4,
 "nbformat_minor": 5
}
